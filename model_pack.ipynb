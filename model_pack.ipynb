{
 "cells": [
  {
   "cell_type": "code",
   "execution_count": null,
   "id": "b5c2db3c-570a-4520-97f9-e99b7cce1377",
   "metadata": {
    "tags": []
   },
   "outputs": [],
   "source": [
    "%load_ext autoreload\n",
    "%autoreload 2"
   ]
  },
  {
   "cell_type": "markdown",
   "id": "87dc5e05-200e-42fa-8d6d-e64abfe933d6",
   "metadata": {},
   "source": [
    "Declaration of parameters (you must also add a tag for this cell - parameters)"
   ]
  },
  {
   "cell_type": "code",
   "execution_count": null,
   "id": "4ca2677e-6dbf-49cb-94cf-55ab34553123",
   "metadata": {
    "tags": [
     "parameters"
    ]
   },
   "outputs": [],
   "source": [
    "# specify substep parameters for interactive run\n",
    "# this cell will be replaced during job run with the parameters from json within params subfolder\n",
    "substep_params={\n",
    "    'save_best': False\n",
    "}"
   ]
  },
  {
   "cell_type": "code",
   "execution_count": null,
   "id": "67358494-16f1-4179-9182-986945b729c8",
   "metadata": {
    "tags": []
   },
   "outputs": [],
   "source": [
    "# load pipeline and step parameters - do not edit\n",
    "from sinara.substep import get_pipeline_params, get_step_params\n",
    "pipeline_params = get_pipeline_params(pprint=True)\n",
    "step_params = get_step_params(pprint=True)"
   ]
  },
  {
   "cell_type": "code",
   "execution_count": null,
   "id": "3fa0a075-eca9-4b7a-ab12-457a84f5dbb9",
   "metadata": {
    "tags": []
   },
   "outputs": [],
   "source": [
    "# define substep interface\n",
    "from sinara.substep import NotebookSubstep, ENV_NAME, PIPELINE_NAME, ZONE_NAME, STEP_NAME, RUN_ID, ENTITY_NAME, ENTITY_PATH, SUBSTEP_NAME\n",
    "\n",
    "substep = NotebookSubstep(pipeline_params, step_params, substep_params)\n",
    "\n",
    "substep.interface(\n",
    "    inputs =\n",
    "    [ \n",
    "      { STEP_NAME: \"model_train\", ENTITY_NAME: \"obj_detect_inference_files\"} # stored detector files from train step\n",
    "    ],\n",
    "    \n",
    "    tmp_entities =\n",
    "    [\n",
    "        { ENTITY_NAME: \"obj_detect_inference_files\" } # temporary detector files from train step\n",
    "    ],\n",
    "    \n",
    "    outputs =\n",
    "    [\n",
    "        { ENTITY_NAME: \"bento_service\" } # stored BentoService\n",
    "    ],\n",
    ")\n",
    "\n",
    "substep.print_interface_info()\n",
    "\n",
    "substep.exit_in_visualize_mode()"
   ]
  },
  {
   "cell_type": "code",
   "execution_count": null,
   "id": "6114cb21-c454-4066-bdf1-b661d623e98c",
   "metadata": {},
   "outputs": [],
   "source": [
    "# specify all notebook wide libraries imports here\n",
    "# Sinara lib imports is left in the place of their usage\n",
    "import json\n",
    "import os\n",
    "import os.path as osp\n",
    "import glob\n",
    "import torch"
   ]
  },
  {
   "cell_type": "code",
   "execution_count": null,
   "id": "971a55f1-6203-46b0-89f9-aed0cafb18f0",
   "metadata": {
    "tags": []
   },
   "outputs": [],
   "source": [
    "# run spark\n",
    "from sinara.spark import SinaraSpark\n",
    "from sinara.archive import SinaraArchive\n",
    "\n",
    "spark = SinaraSpark.run_session(0)\n",
    "archive = SinaraArchive(spark)\n",
    "SinaraSpark.ui_url()"
   ]
  },
  {
   "cell_type": "markdown",
   "id": "32ea64bc-5c73-4766-b3a0-6bad6c94caf1",
   "metadata": {},
   "source": [
    "### Loading obj_detect_inference_files from the model_train step \n",
    "(weights, configs, test image)"
   ]
  },
  {
   "cell_type": "code",
   "execution_count": null,
   "id": "2060677f-4ae3-451c-8122-af898fd754a7",
   "metadata": {
    "tags": []
   },
   "outputs": [],
   "source": [
    "inputs = substep.inputs(step_name = \"model_train\")\n",
    "tmp_entities = substep.tmp_entities()\n",
    "# copy config from previos step to outputs\n",
    "\n",
    "archive.unpack_files_from_store_to_tmp(store_path=inputs.obj_detect_inference_files, tmp_entity_dir=tmp_entities.obj_detect_inference_files)"
   ]
  },
  {
   "cell_type": "markdown",
   "id": "2cccaf57-5e98-40fd-98d1-e9b6b58c788a",
   "metadata": {
    "tags": []
   },
   "source": [
    "### Select obj_detector weights and config for packaging"
   ]
  },
  {
   "cell_type": "code",
   "execution_count": null,
   "id": "ae96ad73-dabb-478c-a2d1-488f78b77761",
   "metadata": {
    "tags": []
   },
   "outputs": [],
   "source": [
    "# Selecting a weights file to convert to onnx format (best, latest epoch, etc.)\n",
    "\n",
    "best_weights_pths = glob.glob(f\"{tmp_entities.obj_detect_inference_files}/*best*\")\n",
    "latest_weights_pths = glob.glob(f\"{tmp_entities.obj_detect_inference_files}/*latest*\")\n",
    "\n",
    "weights_pths = best_weights_pths if substep_params['save_best'] and len(best_weights_pths) > 0 else latest_weights_pths\n",
    "\n",
    "# Select weigths file with max filetime\n",
    "weights_pths.sort(key=lambda file: osp.getmtime(file))\n",
    "selected_weights_pth = weights_pths[-1]\n",
    "\n",
    "# Clean model weights - remove optimizer's data\n",
    "state_dict = torch.load(selected_weights_pth, map_location=torch.device('cpu'))\n",
    "print(f\"{state_dict.keys()=}\")\n",
    "if \"optimizer\" in state_dict:\n",
    "    del state_dict[\"optimizer\"]\n",
    "\n",
    "# Prepare files for packaging\n",
    "clean_weigths_pth = osp.splitext(selected_weights_pth)[0]+\"_clean.pth\"\n",
    "torch.save(state_dict, clean_weigths_pth)\n",
    "\n",
    "mmengine_cfg = osp.join(tmp_entities.obj_detect_inference_files, \"last_cfg.py\")"
   ]
  },
  {
   "cell_type": "markdown",
   "id": "d53b16e9-35a5-4a58-99be-7fe3c7ae448d",
   "metadata": {},
   "source": [
    "### Pack binary  model"
   ]
  },
  {
   "cell_type": "markdown",
   "id": "f1b22d82-62ab-4002-952d-be44085428af",
   "metadata": {
    "tags": []
   },
   "source": [
    "#### Packaging of obj_detector in bento_service"
   ]
  },
  {
   "cell_type": "code",
   "execution_count": null,
   "id": "6cec01c4-b15f-4fdf-b962-0085c1013e4b",
   "metadata": {
    "tags": []
   },
   "outputs": [],
   "source": [
    "from sinara.bentoml.bento_archive import BentoArchive\n",
    "\n",
    "# initialize bento service\n",
    "model_service = BentoArchive()\n",
    "\n",
    "# get model weights as binary file for bento_artifact\n",
    "with open(clean_weigths_pth, \"rb\") as f_id:\n",
    "    clean_weigths_pth_binary = f_id.read()\n",
    "    \n",
    "# get model config as binary file for bento_artifact\n",
    "with open(mmengine_cfg, \"rb\") as f_id:\n",
    "    mmengine_cfg_binary = f_id.read()\n",
    "    \n",
    "model_service.pack('weigths_pth', clean_weigths_pth_binary, file_extension='pth')\n",
    "model_service.pack('mmengine_cfg', mmengine_cfg_binary, file_extension='py')\n",
    "\n",
    "test_image_path = osp.join(tmp_entities.obj_detect_inference_files, \"test.jpg\")\n",
    "assert osp.exists(test_image_path)\n",
    "\n",
    "# get test image as binary file for bento_artifact\n",
    "with open(test_image_path, \"rb\") as f_id:\n",
    "    f_test_image = f_id.read()\n",
    "    \n",
    "model_service.pack('test_image', f_test_image, file_extension='jpg')"
   ]
  },
  {
   "cell_type": "markdown",
   "id": "f41b3171-c23d-4bff-83da-96a4900ca2e3",
   "metadata": {
    "tags": []
   },
   "source": [
    "### Send packaged obj_detector to outputs"
   ]
  },
  {
   "cell_type": "code",
   "execution_count": null,
   "id": "4b9fe07f-fcd5-4d03-886b-dbdf4b60db64",
   "metadata": {
    "tags": []
   },
   "outputs": [],
   "source": [
    "# save model as a bento pack\n",
    "from sinara.bentoml import save_bentoservice\n",
    "\n",
    "outputs = substep.outputs()\n",
    "\n",
    "save_bentoservice(model_service, path=outputs.bento_service, substep=substep)"
   ]
  },
  {
   "cell_type": "code",
   "execution_count": null,
   "id": "d2b6aec1-7ca6-40b7-965e-07da5ee26b70",
   "metadata": {
    "tags": []
   },
   "outputs": [],
   "source": [
    "# stop spark\n",
    "SinaraSpark.stop_session()"
   ]
  },
  {
   "cell_type": "code",
   "execution_count": null,
   "id": "bb549711-73d4-422d-baa6-c549900813f3",
   "metadata": {},
   "outputs": [],
   "source": []
  }
 ],
 "metadata": {
  "kernelspec": {
   "display_name": "cv",
   "language": "python",
   "name": "cv"
  },
  "language_info": {
   "codemirror_mode": {
    "name": "ipython",
    "version": 3
   },
   "file_extension": ".py",
   "mimetype": "text/x-python",
   "name": "python",
   "nbconvert_exporter": "python",
   "pygments_lexer": "ipython3",
   "version": "3.9.10"
  }
 },
 "nbformat": 4,
 "nbformat_minor": 5
}
